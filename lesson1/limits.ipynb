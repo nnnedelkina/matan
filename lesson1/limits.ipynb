{
 "cells": [
  {
   "cell_type": "code",
   "execution_count": 6,
   "metadata": {},
   "outputs": [
    {
     "data": {
      "text/plain": [
       "(2.716988423724236, 11780.0)"
      ]
     },
     "execution_count": 6,
     "metadata": {},
     "output_type": "execute_result"
    }
   ],
   "source": [
    "import math\n",
    "e = 1e-7\n",
    "f, r, pr, n = 0, 0.0, 1.0, 2.0\n",
    "while abs(pr - r) > e:\n",
    "    lnn = math.log(n)\n",
    "    f += lnn \n",
    "    pr = r\n",
    "    r = math.exp(lnn - f / n)\n",
    "    n += 1\n",
    "    \n",
    "r, n"
   ]
  },
  {
   "cell_type": "markdown",
   "metadata": {},
   "source": [
    "Просто факториал не считается при n > 170, пришлось перейти к логарифмам. Должно было, видимо, получиться e, но получилось не совсем точно. \n",
    "Непонятно, как ускорить сходимость за счет увеличения шага, так как я не пересчитываю факториал каждый раз, а считаю инкрементно. Считаю, что это уже ускоренный вариант. "
   ]
  },
  {
   "cell_type": "code",
   "execution_count": null,
   "metadata": {},
   "outputs": [],
   "source": []
  }
 ],
 "metadata": {
  "kernelspec": {
   "display_name": "Python 3",
   "language": "python",
   "name": "python3"
  },
  "language_info": {
   "codemirror_mode": {
    "name": "ipython",
    "version": 3
   },
   "file_extension": ".py",
   "mimetype": "text/x-python",
   "name": "python",
   "nbconvert_exporter": "python",
   "pygments_lexer": "ipython3",
   "version": "3.7.6"
  }
 },
 "nbformat": 4,
 "nbformat_minor": 4
}
